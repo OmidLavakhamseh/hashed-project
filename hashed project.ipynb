{
 "cells": [
  {
   "cell_type": "markdown",
   "id": "d0964947",
   "metadata": {},
   "source": [
    "gets a hashed password list and gives the correct original password as another csv file."
   ]
  },
  {
   "cell_type": "code",
   "execution_count": 2,
   "id": "b3d4da6c",
   "metadata": {},
   "outputs": [
    {
     "name": "stdout",
     "output_type": "stream",
     "text": [
      "Sima, 1356\n",
      "Mandana, 6531\n",
      "Bardia, 2500\n",
      "Ario, 8544\n"
     ]
    }
   ],
   "source": [
    "import hashlib\n",
    "import csv\n",
    "\n",
    "def hash_password_hack(input_file_name, output_file_name):\n",
    "    rainbow_dict = {} #generating hashlib data base\n",
    "    for i in range(1000, 10000): # note you need upper end to be 10000 in odrder to include 9999\n",
    "        my_hash = hashlib.sha256(str(i).encode()).hexdigest()\n",
    "        rainbow_dict[my_hash] = i\n",
    "    with open(input_file_name, mode='r') as csv_in:\n",
    "        csv_content = csv.reader(csv_in)\n",
    "        with open(output_file_name, 'w', newline='') as csv_out:#I have used newline to write them in sepated lines\n",
    "            csv_writer = csv.writer(csv_out)\n",
    "            name=list()\n",
    "            pas=dict()\n",
    "            for row in csv_content:\n",
    "                name=row[0]\n",
    "                vall=row[1]\n",
    "                pas[name]=vall\n",
    "            for x,y in pas.items():\n",
    "                pas_new=rainbow_dict[y]\n",
    "                print('%s, %i' %(x,pas_new))\n",
    "                csv_writer.writerow([x,pas_new])\n",
    "\n",
    "hash_password_hack('C:/Users/omidl/OneDrive/Desktop/test PY/group_passlist.csv', 'C:/Users/omidl/OneDrive/Desktop/test PY/group_passlist_out.csv')\n",
    "    \n",
    "\n",
    "\n"
   ]
  },
  {
   "cell_type": "code",
   "execution_count": null,
   "id": "b7440812",
   "metadata": {},
   "outputs": [],
   "source": []
  }
 ],
 "metadata": {
  "kernelspec": {
   "display_name": "Python 3 (ipykernel)",
   "language": "python",
   "name": "python3"
  },
  "language_info": {
   "codemirror_mode": {
    "name": "ipython",
    "version": 3
   },
   "file_extension": ".py",
   "mimetype": "text/x-python",
   "name": "python",
   "nbconvert_exporter": "python",
   "pygments_lexer": "ipython3",
   "version": "3.9.7"
  }
 },
 "nbformat": 4,
 "nbformat_minor": 5
}
